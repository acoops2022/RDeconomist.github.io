{
  "nbformat": 4,
  "nbformat_minor": 0,
  "metadata": {
    "colab": {
      "provenance": [],
      "collapsed_sections": [],
      "authorship_tag": "ABX9TyOVqAFecIFi2izriwrK1YxS",
      "include_colab_link": true
    },
    "kernelspec": {
      "name": "python3",
      "display_name": "Python 3"
    },
    "language_info": {
      "name": "python"
    }
  },
  "cells": [
    {
      "cell_type": "markdown",
      "metadata": {
        "id": "view-in-github",
        "colab_type": "text"
      },
      "source": [
        "<a href=\"https://colab.research.google.com/github/acoops2022/RDeconomist.github.io/blob/main/Data_Science_class_3.ipynb\" target=\"_parent\"><img src=\"https://colab.research.google.com/assets/colab-badge.svg\" alt=\"Open In Colab\"/></a>"
      ]
    },
    {
      "cell_type": "markdown",
      "source": [
        "arrays, vectors, lists\n"
      ],
      "metadata": {
        "id": "koispmvfqt8p"
      }
    },
    {
      "cell_type": "markdown",
      "source": [
        "cell navigation: crtl+enter runs the cell\n",
        "alt+enter runs and adds a new one below "
      ],
      "metadata": {
        "id": "tqPLGxLCr32B"
      }
    },
    {
      "cell_type": "code",
      "execution_count": 2,
      "metadata": {
        "colab": {
          "base_uri": "https://localhost:8080/"
        },
        "id": "_NUhoN42qVq8",
        "outputId": "57681f9a-0f14-4d56-fdec-559bdd185154"
      },
      "outputs": [
        {
          "output_type": "execute_result",
          "data": {
            "text/plain": [
              "5"
            ]
          },
          "metadata": {},
          "execution_count": 2
        }
      ],
      "source": [
        "a = [2,3,4,'fdfd',[5,6]]\n",
        "a\n",
        "[2,4,3, 'fdfd' , [5.6]]\n",
        "a[4][0]\n",
        "\n"
      ]
    },
    {
      "cell_type": "markdown",
      "source": [
        "Dictionary, Object, Hash table\n",
        "[link text](https://)"
      ],
      "metadata": {
        "id": "DhcmJnNhsPVC"
      }
    },
    {
      "cell_type": "code",
      "source": [
        "b={'alfa':1,\n",
        "   'beta':27, \n",
        "   'gamma':[0,1,2], \n",
        "   'delta':'67.3',\n",
        "   '98':{'a':5, 'b':7}\n",
        "}"
      ],
      "metadata": {
        "id": "1h9wHxOEseh9"
      },
      "execution_count": 3,
      "outputs": []
    },
    {
      "cell_type": "code",
      "source": [
        "b['98']['a']"
      ],
      "metadata": {
        "colab": {
          "base_uri": "https://localhost:8080/"
        },
        "id": "kInC2Tr_Qow9",
        "outputId": "a071144c-f3a9-44a5-ce0d-0a38e183fbe8"
      },
      "execution_count": 4,
      "outputs": [
        {
          "output_type": "execute_result",
          "data": {
            "text/plain": [
              "5"
            ]
          },
          "metadata": {},
          "execution_count": 4
        }
      ]
    },
    {
      "cell_type": "code",
      "source": [
        "b.keys()"
      ],
      "metadata": {
        "colab": {
          "base_uri": "https://localhost:8080/"
        },
        "id": "iFy1VDhpTMNw",
        "outputId": "0584b47d-866d-4e3d-f736-4958a47714f0"
      },
      "execution_count": 12,
      "outputs": [
        {
          "output_type": "execute_result",
          "data": {
            "text/plain": [
              "dict_keys(['alfa', 'beta', 'gamma', 'delta', '98'])"
            ]
          },
          "metadata": {},
          "execution_count": 12
        }
      ]
    },
    {
      "cell_type": "code",
      "source": [
        "import pandas as pd\n"
      ],
      "metadata": {
        "id": "X6q8QGIoeoWP"
      },
      "execution_count": 5,
      "outputs": []
    },
    {
      "cell_type": "code",
      "source": [
        "df=pd.read_csv('transportationCo2emissionstimeseries.csv')\n"
      ],
      "metadata": {
        "id": "4rr8bFC7evnM"
      },
      "execution_count": 21,
      "outputs": []
    },
    {
      "cell_type": "code",
      "source": [
        "list(df.T.to_dict().values())\n"
      ],
      "metadata": {
        "colab": {
          "base_uri": "https://localhost:8080/"
        },
        "id": "ZM2lYphEe4in",
        "outputId": "b5c75c4e-6374-49e6-bc6d-e9f0780f3dbb"
      },
      "execution_count": 22,
      "outputs": [
        {
          "output_type": "execute_result",
          "data": {
            "text/plain": [
              "[{'Year': '1970-01-01', 'Transportation_GigTonCo2': 2796},\n",
              " {'Year': '1971-01-01', 'Transportation_GigTonCo2': 2876},\n",
              " {'Year': '1972-01-01', 'Transportation_GigTonCo2': 3046},\n",
              " {'Year': '1973-01-01', 'Transportation_GigTonCo2': 3223},\n",
              " {'Year': '1974-01-01', 'Transportation_GigTonCo2': 3192},\n",
              " {'Year': '1975-01-01', 'Transportation_GigTonCo2': 3276},\n",
              " {'Year': '1976-01-01', 'Transportation_GigTonCo2': 3409},\n",
              " {'Year': '1977-01-01', 'Transportation_GigTonCo2': 3531},\n",
              " {'Year': '1978-01-01', 'Transportation_GigTonCo2': 3675},\n",
              " {'Year': '1979-01-01', 'Transportation_GigTonCo2': 3740},\n",
              " {'Year': '1980-01-01', 'Transportation_GigTonCo2': 3693},\n",
              " {'Year': '1981-01-01', 'Transportation_GigTonCo2': 3680},\n",
              " {'Year': '1982-01-01', 'Transportation_GigTonCo2': 3646},\n",
              " {'Year': '1983-01-01', 'Transportation_GigTonCo2': 3681},\n",
              " {'Year': '1984-01-01', 'Transportation_GigTonCo2': 3785},\n",
              " {'Year': '1985-01-01', 'Transportation_GigTonCo2': 3862},\n",
              " {'Year': '1986-01-01', 'Transportation_GigTonCo2': 4004},\n",
              " {'Year': '1987-01-01', 'Transportation_GigTonCo2': 4143},\n",
              " {'Year': '1988-01-01', 'Transportation_GigTonCo2': 4339},\n",
              " {'Year': '1989-01-01', 'Transportation_GigTonCo2': 4463},\n",
              " {'Year': '1990-01-01', 'Transportation_GigTonCo2': 4596},\n",
              " {'Year': '1991-01-01', 'Transportation_GigTonCo2': 4640},\n",
              " {'Year': '1992-01-01', 'Transportation_GigTonCo2': 4747},\n",
              " {'Year': '1993-01-01', 'Transportation_GigTonCo2': 4788},\n",
              " {'Year': '1994-01-01', 'Transportation_GigTonCo2': 4885},\n",
              " {'Year': '1995-01-01', 'Transportation_GigTonCo2': 5019},\n",
              " {'Year': '1996-01-01', 'Transportation_GigTonCo2': 5222},\n",
              " {'Year': '1997-01-01', 'Transportation_GigTonCo2': 5300},\n",
              " {'Year': '1998-01-01', 'Transportation_GigTonCo2': 5420},\n",
              " {'Year': '1999-01-01', 'Transportation_GigTonCo2': 5580},\n",
              " {'Year': '2000-01-01', 'Transportation_GigTonCo2': 5760},\n",
              " {'Year': '2001-01-01', 'Transportation_GigTonCo2': 5793},\n",
              " {'Year': '2002-01-01', 'Transportation_GigTonCo2': 5931},\n",
              " {'Year': '2003-01-01', 'Transportation_GigTonCo2': 6064},\n",
              " {'Year': '2004-01-01', 'Transportation_GigTonCo2': 6342},\n",
              " {'Year': '2005-01-01', 'Transportation_GigTonCo2': 6477},\n",
              " {'Year': '2006-01-01', 'Transportation_GigTonCo2': 6624},\n",
              " {'Year': '2007-01-01', 'Transportation_GigTonCo2': 6832},\n",
              " {'Year': '2008-01-01', 'Transportation_GigTonCo2': 6842},\n",
              " {'Year': '2009-01-01', 'Transportation_GigTonCo2': 6709},\n",
              " {'Year': '2010-01-01', 'Transportation_GigTonCo2': 6997},\n",
              " {'Year': '2011-01-01', 'Transportation_GigTonCo2': 7105},\n",
              " {'Year': '2012-01-01', 'Transportation_GigTonCo2': 7170},\n",
              " {'Year': '2013-01-01', 'Transportation_GigTonCo2': 7356},\n",
              " {'Year': '2014-01-01', 'Transportation_GigTonCo2': 7493},\n",
              " {'Year': '2015-01-01', 'Transportation_GigTonCo2': 7712},\n",
              " {'Year': '2016-01-01', 'Transportation_GigTonCo2': 7869},\n",
              " {'Year': '2017-01-01', 'Transportation_GigTonCo2': 8050},\n",
              " {'Year': '2018-01-01', 'Transportation_GigTonCo2': 8142},\n",
              " {'Year': '2019-01-01', 'Transportation_GigTonCo2': 8251},\n",
              " {'Year': '2020-01-01', 'Transportation_GigTonCo2': 7289}]"
            ]
          },
          "metadata": {},
          "execution_count": 22
        }
      ]
    },
    {
      "cell_type": "code",
      "source": [
        "exported_values = list( df.T.to_dict().values())"
      ],
      "metadata": {
        "id": "eEa217Sugnb6"
      },
      "execution_count": 23,
      "outputs": []
    },
    {
      "cell_type": "code",
      "source": [
        "exported_values"
      ],
      "metadata": {
        "colab": {
          "base_uri": "https://localhost:8080/"
        },
        "id": "5-k3yi08UwAH",
        "outputId": "b8d3c837-c3b5-40b5-cc9e-6eb2c81a5b70"
      },
      "execution_count": 24,
      "outputs": [
        {
          "output_type": "execute_result",
          "data": {
            "text/plain": [
              "[{'Year': '1970-01-01', 'Transportation_GigTonCo2': 2796},\n",
              " {'Year': '1971-01-01', 'Transportation_GigTonCo2': 2876},\n",
              " {'Year': '1972-01-01', 'Transportation_GigTonCo2': 3046},\n",
              " {'Year': '1973-01-01', 'Transportation_GigTonCo2': 3223},\n",
              " {'Year': '1974-01-01', 'Transportation_GigTonCo2': 3192},\n",
              " {'Year': '1975-01-01', 'Transportation_GigTonCo2': 3276},\n",
              " {'Year': '1976-01-01', 'Transportation_GigTonCo2': 3409},\n",
              " {'Year': '1977-01-01', 'Transportation_GigTonCo2': 3531},\n",
              " {'Year': '1978-01-01', 'Transportation_GigTonCo2': 3675},\n",
              " {'Year': '1979-01-01', 'Transportation_GigTonCo2': 3740},\n",
              " {'Year': '1980-01-01', 'Transportation_GigTonCo2': 3693},\n",
              " {'Year': '1981-01-01', 'Transportation_GigTonCo2': 3680},\n",
              " {'Year': '1982-01-01', 'Transportation_GigTonCo2': 3646},\n",
              " {'Year': '1983-01-01', 'Transportation_GigTonCo2': 3681},\n",
              " {'Year': '1984-01-01', 'Transportation_GigTonCo2': 3785},\n",
              " {'Year': '1985-01-01', 'Transportation_GigTonCo2': 3862},\n",
              " {'Year': '1986-01-01', 'Transportation_GigTonCo2': 4004},\n",
              " {'Year': '1987-01-01', 'Transportation_GigTonCo2': 4143},\n",
              " {'Year': '1988-01-01', 'Transportation_GigTonCo2': 4339},\n",
              " {'Year': '1989-01-01', 'Transportation_GigTonCo2': 4463},\n",
              " {'Year': '1990-01-01', 'Transportation_GigTonCo2': 4596},\n",
              " {'Year': '1991-01-01', 'Transportation_GigTonCo2': 4640},\n",
              " {'Year': '1992-01-01', 'Transportation_GigTonCo2': 4747},\n",
              " {'Year': '1993-01-01', 'Transportation_GigTonCo2': 4788},\n",
              " {'Year': '1994-01-01', 'Transportation_GigTonCo2': 4885},\n",
              " {'Year': '1995-01-01', 'Transportation_GigTonCo2': 5019},\n",
              " {'Year': '1996-01-01', 'Transportation_GigTonCo2': 5222},\n",
              " {'Year': '1997-01-01', 'Transportation_GigTonCo2': 5300},\n",
              " {'Year': '1998-01-01', 'Transportation_GigTonCo2': 5420},\n",
              " {'Year': '1999-01-01', 'Transportation_GigTonCo2': 5580},\n",
              " {'Year': '2000-01-01', 'Transportation_GigTonCo2': 5760},\n",
              " {'Year': '2001-01-01', 'Transportation_GigTonCo2': 5793},\n",
              " {'Year': '2002-01-01', 'Transportation_GigTonCo2': 5931},\n",
              " {'Year': '2003-01-01', 'Transportation_GigTonCo2': 6064},\n",
              " {'Year': '2004-01-01', 'Transportation_GigTonCo2': 6342},\n",
              " {'Year': '2005-01-01', 'Transportation_GigTonCo2': 6477},\n",
              " {'Year': '2006-01-01', 'Transportation_GigTonCo2': 6624},\n",
              " {'Year': '2007-01-01', 'Transportation_GigTonCo2': 6832},\n",
              " {'Year': '2008-01-01', 'Transportation_GigTonCo2': 6842},\n",
              " {'Year': '2009-01-01', 'Transportation_GigTonCo2': 6709},\n",
              " {'Year': '2010-01-01', 'Transportation_GigTonCo2': 6997},\n",
              " {'Year': '2011-01-01', 'Transportation_GigTonCo2': 7105},\n",
              " {'Year': '2012-01-01', 'Transportation_GigTonCo2': 7170},\n",
              " {'Year': '2013-01-01', 'Transportation_GigTonCo2': 7356},\n",
              " {'Year': '2014-01-01', 'Transportation_GigTonCo2': 7493},\n",
              " {'Year': '2015-01-01', 'Transportation_GigTonCo2': 7712},\n",
              " {'Year': '2016-01-01', 'Transportation_GigTonCo2': 7869},\n",
              " {'Year': '2017-01-01', 'Transportation_GigTonCo2': 8050},\n",
              " {'Year': '2018-01-01', 'Transportation_GigTonCo2': 8142},\n",
              " {'Year': '2019-01-01', 'Transportation_GigTonCo2': 8251},\n",
              " {'Year': '2020-01-01', 'Transportation_GigTonCo2': 7289}]"
            ]
          },
          "metadata": {},
          "execution_count": 24
        }
      ]
    },
    {
      "cell_type": "code",
      "source": [
        "import json "
      ],
      "metadata": {
        "id": "7ti2RNwohn4_"
      },
      "execution_count": 30,
      "outputs": []
    },
    {
      "cell_type": "code",
      "source": [
        "# json.dumps(exported_values)"
      ],
      "metadata": {
        "id": "UWTAhisIiCZv"
      },
      "execution_count": 35,
      "outputs": []
    },
    {
      "cell_type": "code",
      "source": [
        "open('my_first_json_file.json',\n",
        "     'w').write( json.dumps(exported_values) )\n"
      ],
      "metadata": {
        "colab": {
          "base_uri": "https://localhost:8080/"
        },
        "id": "GYlEeKoehq_1",
        "outputId": "ac9c0213-634b-45fa-fb03-bdd6c98bf357"
      },
      "execution_count": 36,
      "outputs": [
        {
          "output_type": "execute_result",
          "data": {
            "text/plain": [
              "2958"
            ]
          },
          "metadata": {},
          "execution_count": 36
        }
      ]
    }
  ]
}